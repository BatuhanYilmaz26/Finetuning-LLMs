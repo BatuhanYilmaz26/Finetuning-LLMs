{
 "cells": [
  {
   "cell_type": "markdown",
   "metadata": {},
   "source": [
    "![](images/practical_finetuning.png)\n",
    "\n",
    "![](images/tasks.png)\n",
    "\n",
    "![](images/peft.png)\n",
    "\n",
    "![](images/why_finetune.png)"
   ]
  }
 ],
 "metadata": {
  "language_info": {
   "name": "python"
  }
 },
 "nbformat": 4,
 "nbformat_minor": 2
}
